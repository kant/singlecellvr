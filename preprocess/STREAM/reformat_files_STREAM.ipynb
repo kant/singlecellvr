{
 "cells": [
  {
   "cell_type": "code",
   "execution_count": 1,
   "metadata": {},
   "outputs": [],
   "source": [
    "import pandas as pd\n",
    "import numpy as np\n",
    "import os\n",
    "import json\n",
    "import stream as st\n",
    "import networkx as nx\n",
    "import shutil"
   ]
  },
  {
   "cell_type": "code",
   "execution_count": null,
   "metadata": {},
   "outputs": [],
   "source": []
  },
  {
   "cell_type": "code",
   "execution_count": 2,
   "metadata": {
    "scrolled": true
   },
   "outputs": [
    {
     "name": "stdout",
     "output_type": "stream",
     "text": [
      "Saving results in: ./stream_result\n"
     ]
    }
   ],
   "source": [
    "adata = st.read('./stream_result.pkl',file_format='pkl',workdir='./stream_result')"
   ]
  },
  {
   "cell_type": "code",
   "execution_count": 3,
   "metadata": {
    "scrolled": true
   },
   "outputs": [
    {
     "data": {
      "text/plain": [
       "AnnData object with n_obs × n_vars = 1656 × 4762 \n",
       "    obs: 'label', 'label_color', 'node', 'branch_id', 'branch_id_alias', 'branch_lam', 'branch_dist', 'S0_pseudotime', 'S3_pseudotime', 'S2_pseudotime', 'S5_pseudotime', 'S4_pseudotime', 'S1_pseudotime'\n",
       "    var: 'n_counts', 'n_cells'\n",
       "    uns: 'experiment', 'workdir', 'label_color', 'var_genes', 'trans_mlle', 'epg', 'flat_tree', 'seed_epg', 'seed_flat_tree', 'ori_epg', 'epg_obj', 'ori_epg_obj', 'subwaymap_S4', 'scaled_gene_expr', 'leaf_genes_all', 'leaf_genes'\n",
       "    obsm: 'var_genes', 'X_mlle', 'X_dr', 'X_vis_umap', 'X_spring', 'X_subwaymap_S4'"
      ]
     },
     "execution_count": 3,
     "metadata": {},
     "output_type": "execute_result"
    }
   ],
   "source": [
    "adata"
   ]
  },
  {
   "cell_type": "code",
   "execution_count": 4,
   "metadata": {},
   "outputs": [],
   "source": [
    "reportdir = './stream_report'"
   ]
  },
  {
   "cell_type": "code",
   "execution_count": 5,
   "metadata": {},
   "outputs": [],
   "source": [
    "if(not os.path.exists(reportdir)):\n",
    "        os.makedirs(reportdir)"
   ]
  },
  {
   "cell_type": "code",
   "execution_count": 6,
   "metadata": {},
   "outputs": [],
   "source": [
    "list_cells = []\n",
    "\n",
    "for i in range(adata.shape[0]):\n",
    "    dict_coord_cells = dict()\n",
    "    dict_coord_cells['cell_id'] = adata.obs_names[i]\n",
    "    dict_coord_cells['x'] = adata.obsm['X_dr'][i,0]\n",
    "    dict_coord_cells['y'] = adata.obsm['X_dr'][i,1]\n",
    "    dict_coord_cells['z'] = adata.obsm['X_dr'][i,2]\n",
    "    list_cells.append(dict_coord_cells)"
   ]
  },
  {
   "cell_type": "code",
   "execution_count": 7,
   "metadata": {},
   "outputs": [],
   "source": [
    "with open(os.path.join(reportdir,'scatter.json'), 'w') as f:\n",
    "    json.dump(list_cells, f)"
   ]
  },
  {
   "cell_type": "code",
   "execution_count": null,
   "metadata": {},
   "outputs": [],
   "source": []
  },
  {
   "cell_type": "code",
   "execution_count": 8,
   "metadata": {},
   "outputs": [],
   "source": [
    "list_curves = []\n",
    "\n",
    "epg = adata.uns['epg']\n",
    "flat_tree = adata.uns['flat_tree']\n",
    "dict_nodes_pos = nx.get_node_attributes(epg,'pos')\n",
    "dict_nodes_label = nx.get_node_attributes(flat_tree,'label')\n",
    "\n",
    "for edge_i in flat_tree.edges():\n",
    "    branch_i_nodes = flat_tree.edges[edge_i]['nodes']\n",
    "    branch_i_pos = np.array([dict_nodes_pos[i] for i in branch_i_nodes])\n",
    "    df_coord_curve_i = pd.DataFrame(branch_i_pos)\n",
    "#     for j in range(df_coord_curve_i.shape[0]):\n",
    "#         list_coord_curves = []\n",
    "#         dict_coord_curves = dict()\n",
    "#         dict_coord_curves['branch_id'] = dict_nodes_label[edge_i[0]] + '_' + dict_nodes_label[edge_i[1]]\n",
    "#     #     dict_coord_curves['pseudotime'] = pseudotime_new[i]\n",
    "#         dict_coord_curves['xyz'] = df_coord_curve_i.loc[j,].tolist()\n",
    "#         list_curves.append(dict_coord_curves)\n",
    "    dict_coord_curves = dict()\n",
    "    dict_coord_curves['branch_id'] = dict_nodes_label[edge_i[0]] + '_' + dict_nodes_label[edge_i[1]]\n",
    "    dict_coord_curves['xyz'] = [{'x':df_coord_curve_i.iloc[j,0],\n",
    "                                 'y':df_coord_curve_i.iloc[j,1],\n",
    "                                 'z':df_coord_curve_i.iloc[j,2]} for j in range(df_coord_curve_i.shape[0])]\n",
    "    \n",
    "    df_coord_curve_i[0].tolist()\n",
    "    dict_coord_curves['y'] = df_coord_curve_i[1].tolist()\n",
    "    dict_coord_curves['z'] = df_coord_curve_i[2].tolist()\n",
    "    list_curves.append(dict_coord_curves)"
   ]
  },
  {
   "cell_type": "code",
   "execution_count": 9,
   "metadata": {},
   "outputs": [],
   "source": [
    "with open(os.path.join(reportdir,'stream.json'), 'w') as f:\n",
    "    json.dump(list_curves, f)"
   ]
  },
  {
   "cell_type": "code",
   "execution_count": null,
   "metadata": {},
   "outputs": [],
   "source": []
  },
  {
   "cell_type": "code",
   "execution_count": 10,
   "metadata": {},
   "outputs": [],
   "source": [
    "list_metadata = []\n",
    "\n",
    "for i in range(adata.shape[0]):\n",
    "    dict_metadata = dict()\n",
    "    dict_metadata['cell_id'] = adata.obs_names[i]\n",
    "    dict_metadata['label'] = adata.obs['label'].tolist()[i]\n",
    "    dict_metadata['label_color'] = adata.obs['label_color'].tolist()[i]\n",
    "    list_metadata.append(dict_metadata)"
   ]
  },
  {
   "cell_type": "code",
   "execution_count": 11,
   "metadata": {},
   "outputs": [],
   "source": [
    "with open(os.path.join(reportdir,'metadata.json'), 'w') as f:\n",
    "    json.dump(list_metadata, f)"
   ]
  },
  {
   "cell_type": "code",
   "execution_count": null,
   "metadata": {},
   "outputs": [],
   "source": []
  },
  {
   "cell_type": "code",
   "execution_count": 12,
   "metadata": {},
   "outputs": [],
   "source": [
    "df_genes = pd.DataFrame(adata.raw.X,index=adata.raw.obs_names,columns=adata.raw.var_names)"
   ]
  },
  {
   "cell_type": "code",
   "execution_count": 13,
   "metadata": {
    "scrolled": true
   },
   "outputs": [
    {
     "data": {
      "text/plain": [
       "['Gata1', 'Mpl', 'Emb', 'Vamp5', 'Prtn3', 'Epx', 'Klf1', 'Lcp1', 'Limd2']"
      ]
     },
     "execution_count": 13,
     "metadata": {},
     "output_type": "execute_result"
    }
   ],
   "source": [
    "adata.uns['leaf_genes_all'].index.tolist()[1:10]"
   ]
  },
  {
   "cell_type": "code",
   "execution_count": 14,
   "metadata": {},
   "outputs": [],
   "source": [
    "top_genes = adata.uns['leaf_genes_all'].index.tolist()[1:30]"
   ]
  },
  {
   "cell_type": "code",
   "execution_count": 15,
   "metadata": {},
   "outputs": [],
   "source": [
    "for g in top_genes:\n",
    "    list_genes = []\n",
    "    for x in adata.obs_names:\n",
    "        dict_genes = dict()\n",
    "        dict_genes['cell_id'] = x\n",
    "        dict_genes[g] = np.float(df_genes.loc[x,g])\n",
    "        list_genes.append(dict_genes)\n",
    "    with open(os.path.join(reportdir,'gene_'+g+'.json'), 'w') as f:\n",
    "        json.dump(list_genes, f)"
   ]
  },
  {
   "cell_type": "code",
   "execution_count": 16,
   "metadata": {
    "scrolled": false
   },
   "outputs": [
    {
     "data": {
      "text/plain": [
       "'/Users/huidong/Projects/SinglecellVR/stream_report.zip'"
      ]
     },
     "execution_count": 16,
     "metadata": {},
     "output_type": "execute_result"
    }
   ],
   "source": [
    "shutil.make_archive('stream_report', 'zip', reportdir)"
   ]
  },
  {
   "cell_type": "code",
   "execution_count": null,
   "metadata": {},
   "outputs": [],
   "source": []
  }
 ],
 "metadata": {
  "kernelspec": {
   "display_name": "Python [conda env:STREAM]",
   "language": "python",
   "name": "conda-env-STREAM-py"
  },
  "language_info": {
   "codemirror_mode": {
    "name": "ipython",
    "version": 3
   },
   "file_extension": ".py",
   "mimetype": "text/x-python",
   "name": "python",
   "nbconvert_exporter": "python",
   "pygments_lexer": "ipython3",
   "version": "3.6.7"
  }
 },
 "nbformat": 4,
 "nbformat_minor": 2
}
